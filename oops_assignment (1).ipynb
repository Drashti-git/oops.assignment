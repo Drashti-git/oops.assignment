{
  "nbformat": 4,
  "nbformat_minor": 0,
  "metadata": {
    "colab": {
      "provenance": []
    },
    "kernelspec": {
      "name": "python3",
      "display_name": "Python 3"
    },
    "language_info": {
      "name": "python"
    }
  },
  "cells": [
    {
      "cell_type": "code",
      "execution_count": null,
      "metadata": {
        "id": "J-1Bpw4kPnVg"
      },
      "outputs": [],
      "source": [
        "#1. What are the five key concepts of Object-Oriented Programming (OOP)?\n",
        "#Encapsulation\n",
        "#Wrapping data and its methods into a single unit, which restricts direct access to variables and methods. This helps prevent accidental data modification.\n",
        "\n",
        "#Abstraction\n",
        "#Handling an object's complexity by abstracting certain details and presenting a concrete model.\n",
        "\n",
        "#Inheritance\n",
        "#acquiring attributes and methods from a base class to a derived class.\n",
        "\n",
        "#Polymorphism\n",
        "#Promoting dynamic inheritance of child classes from their parent class.\n",
        "\n",
        "#Association\n",
        "#Establishing a relationship between two distinct classes with the help of their objects"
      ]
    },
    {
      "cell_type": "code",
      "source": [
        "#2. Write a Python class for a `Car` with attributes for `make`, `model`, and `year`. Include a method to display the car's information.\n",
        "\n",
        "class Car:\n",
        "    def __init__(self, make, model, year):\n",
        "        self.make = make\n",
        "        self.model = model\n",
        "        self.year = year\n",
        "\n",
        "    def display_info(self):\n",
        "        print(f\"Car Information: {self.year} {self.make} {self.model}\")\n",
        "my_car = Car(\"hundai\", \"Creata\", 2023)\n",
        "my_car.display_info()\n"
      ],
      "metadata": {
        "colab": {
          "base_uri": "https://localhost:8080/"
        },
        "id": "JqLNr0G1RJfw",
        "outputId": "eb63a061-fad4-4168-a60a-4fc2e6230ac7"
      },
      "execution_count": 20,
      "outputs": [
        {
          "output_type": "stream",
          "name": "stdout",
          "text": [
            "Car Information: 2023 hundai Creata\n"
          ]
        }
      ]
    },
    {
      "cell_type": "code",
      "source": [
        "#3.Explain the difference between instance methods and class methods. Provide an example of each.\n",
        "#Class methods are methods that are not bound to an instance of a class (object) but to the class itself.\n",
        "#Class attributes are bound to the class, while instance attributes are bound to an object.\n",
        "class MyClass:\n",
        "    def __init__(self, value):\n",
        "        self.value = value\n",
        "\n",
        "    def display_value(self):  # Instance method\n",
        "        print(f\"Value: {self.value}\")\n",
        "obj = MyClass(10)\n",
        "obj.display_value()"
      ],
      "metadata": {
        "colab": {
          "base_uri": "https://localhost:8080/"
        },
        "id": "TEquR0eqRJmp",
        "outputId": "edd0d4b8-44e2-465c-c724-513b992bca19"
      },
      "execution_count": 27,
      "outputs": [
        {
          "output_type": "stream",
          "name": "stdout",
          "text": [
            "Value: 10\n"
          ]
        }
      ]
    },
    {
      "cell_type": "code",
      "source": [
        "class MyClass:\n",
        "    class_attribute = \"Hello\"\n",
        "\n",
        "    @classmethod\n",
        "    def display_class_attribute(cls):\n",
        "        print(f\"Class Attribute: {cls.class_attribute}\")\n",
        "\n",
        "MyClass.display_class_attribute()"
      ],
      "metadata": {
        "colab": {
          "base_uri": "https://localhost:8080/"
        },
        "id": "FO02q_27RJsw",
        "outputId": "e491b1a6-ab91-4f16-f2a4-925b6d138bc9"
      },
      "execution_count": 28,
      "outputs": [
        {
          "output_type": "stream",
          "name": "stdout",
          "text": [
            "Class Attribute: Hello\n"
          ]
        }
      ]
    },
    {
      "cell_type": "code",
      "source": [
        "#4. How does Python implement method overloading? Give an example\n",
        "class MyClass:\n",
        "    def add(self, a, b=0, c=0):\n",
        "        return a + b + c\n",
        "\n",
        "obj = MyClass()\n",
        "print(obj.add(1))\n",
        "print(obj.add(1, 4))\n",
        "print(obj.add(1, 4, 10))"
      ],
      "metadata": {
        "colab": {
          "base_uri": "https://localhost:8080/"
        },
        "id": "cPpl5mRkRJxw",
        "outputId": "3d6a1819-9d2a-43ef-8b15-e3ed225326cc"
      },
      "execution_count": 30,
      "outputs": [
        {
          "output_type": "stream",
          "name": "stdout",
          "text": [
            "1\n",
            "5\n",
            "15\n"
          ]
        }
      ]
    },
    {
      "cell_type": "code",
      "source": [
        "#5. What are the three types of access modifiers in Python? How are they denoted?\n",
        "#The three types of access modifiers in Python are public, protected, and private, and they are denoted by different characters:\n",
        "#Public: Allows attributes to be used anywhere in the code.\n",
        "#Protected: Restricts access to within the class and its subclasses, and is denoted by a single underscore.\n",
        "#Private: Restricts access to within the class only, and is denoted by a double underscore."
      ],
      "metadata": {
        "id": "VKZyp7M0RJ2J"
      },
      "execution_count": null,
      "outputs": []
    },
    {
      "cell_type": "code",
      "source": [
        "#6 Describe the five types of inheritance in Python. Provide a simple example of multiple inheritance\n",
        "#Single inheritance: In this type, a derived class inherits from only one base class.\n",
        "#. Multiple inheritance: In this inheritance, the derived class inherits from multiple base classes.\n",
        "# Multi-level inheritance: In this, a derived class inherits another derived class.\n",
        "#Hierarchical Inheritance: In this, we create more than one derived classes from one base class.\n",
        ".\n",
        "class A:\n",
        "    def method_a(self):\n",
        "        print(\"Method A from class A\")\n",
        "\n",
        "class B:\n",
        "    def method_b(self):\n",
        "        print(\"Method B from class B\")\n",
        "\n",
        "class C(A, B):\n",
        "    pass\n",
        "\n",
        "obj = C()\n",
        "obj.method_a()\n",
        "obj.method_b()"
      ],
      "metadata": {
        "colab": {
          "base_uri": "https://localhost:8080/"
        },
        "id": "S0dPbei2RJ6r",
        "outputId": "a89363c1-e396-4164-f49d-263f78653aa5"
      },
      "execution_count": 31,
      "outputs": [
        {
          "output_type": "stream",
          "name": "stdout",
          "text": [
            "Method A from class A\n",
            "Method B from class B\n"
          ]
        }
      ]
    },
    {
      "cell_type": "code",
      "source": [
        "#7.What is the Method Resolution Order (MRO) in Python? How can you retrieve it programmatically?\n",
        "# Method Resolution Order (MRO) in Python:\n",
        "          # Definition: MRO is the order in which Python looks for a method or attribute in a hierarchy of classes. It determines the sequence of classes to be\n",
        "          # checked when a method is called on an object that has multiple inheritance.\n",
        "\n",
        "          # Linearization: Python uses the C3 linearization algorithm (used in new-style classes) to determine the MRO, ensuring a consistent and predictable order.\n",
        "\n",
        "\n",
        "# Example:-\n",
        "class A: pass\n",
        "class B(A): pass\n",
        "class C(A): pass\n",
        "class D(B, C): pass\n",
        "\n",
        "print(D.__mro__)  # Using __mro__ attribute\n",
        "print(D.mro())    # Using mro() method\n"
      ],
      "metadata": {
        "colab": {
          "base_uri": "https://localhost:8080/"
        },
        "id": "87N7xPGGeaYt",
        "outputId": "72f22113-0e56-437b-fb06-ee1b12649cd9"
      },
      "execution_count": 32,
      "outputs": [
        {
          "output_type": "stream",
          "name": "stdout",
          "text": [
            "(<class '__main__.D'>, <class '__main__.B'>, <class '__main__.C'>, <class '__main__.A'>, <class 'object'>)\n",
            "[<class '__main__.D'>, <class '__main__.B'>, <class '__main__.C'>, <class '__main__.A'>, <class 'object'>]\n"
          ]
        }
      ]
    },
    {
      "cell_type": "code",
      "source": [
        "#8, Create an abstract base class `Shape` with an abstract method `area()`. Then create two subclasses`Circle` and `Rectangle` that implement the `area()` method.\n",
        "from abc import ABC, abstractmethod\n",
        "import math\n",
        "\n",
        "# Abstract base class\n",
        "class Shape(ABC):\n",
        "    @abstractmethod\n",
        "    def area(self):\n",
        "        pass\n",
        "\n",
        "# Subclass for Circle\n",
        "class Circle(Shape):\n",
        "    def __init__(self, radius):\n",
        "        self.radius = radius\n",
        "\n",
        "    def area(self):\n",
        "        return math.pi * (self.radius ** 2)\n",
        "\n",
        "# Subclass for Rectangle\n",
        "class Rectangle(Shape):\n",
        "    def __init__(self, width, height):\n",
        "        self.width = width\n",
        "        self.height = height\n",
        "\n",
        "    def area(self):\n",
        "        return self.width * self.height\n",
        "\n",
        "# Example usage\n",
        "circle = Circle(4)\n",
        "rectangle = Rectangle(1, 2)\n",
        "\n",
        "print(f\"Circle area: {circle.area()}\")\n",
        "print(f\"Rectangle area: {rectangle.area()}\")\n"
      ],
      "metadata": {
        "colab": {
          "base_uri": "https://localhost:8080/"
        },
        "id": "5N2jTZm3eaan",
        "outputId": "662275d7-312e-470a-d9e0-f07e4a1ce14f"
      },
      "execution_count": 34,
      "outputs": [
        {
          "output_type": "stream",
          "name": "stdout",
          "text": [
            "Circle area: 50.26548245743669\n",
            "Rectangle area: 2\n"
          ]
        }
      ]
    },
    {
      "cell_type": "code",
      "source": [
        "#9. Demonstrate polymorphism by creating a function that can work with different shape objects to calculateand print their areas.\n",
        "\n",
        "class Shape(ABC):\n",
        "    @abstractmethod\n",
        "    def area(self):\n",
        "        pass\n",
        "\n",
        "class Circle(Shape):\n",
        "    def __init__(self, radius):\n",
        "        self.radius = radius\n",
        "\n",
        "    def area(self):\n",
        "        return math.pi * (self.radius ** 2)\n",
        "\n",
        "class Rectangle(Shape):\n",
        "    def __init__(self, width, height):\n",
        "        self.width = width\n",
        "        self.height = height\n",
        "\n",
        "    def area(self):\n",
        "        return self.width * self.height\n",
        "\n",
        "def print_area(shape):\n",
        "    if isinstance(shape, Shape):\n",
        "        print(f\"The area is: {shape.area()}\")\n",
        "    else:\n",
        "        print(\"Invalid shape object\")\n",
        "\n",
        "circle = Circle(5)\n",
        "rectangle = Rectangle(4, 6)\n",
        "\n",
        "print_area(circle)\n",
        "print_area(rectangle)\n"
      ],
      "metadata": {
        "colab": {
          "base_uri": "https://localhost:8080/"
        },
        "id": "CJa7YNgfeaeF",
        "outputId": "a131533f-d718-4e69-a96c-1d88d9f19333"
      },
      "execution_count": 36,
      "outputs": [
        {
          "output_type": "stream",
          "name": "stdout",
          "text": [
            "The area is: 78.53981633974483\n",
            "The area is: 24\n"
          ]
        }
      ]
    },
    {
      "cell_type": "code",
      "source": [
        "#10. Implement encapsulation in a `BankAccount` class with private attributes for `balance` and account_number`. Include methods for deposit, withdrawal, and balance inquiry\n",
        "class BankAccount:\n",
        "    def __init__(self, account_number, initial_balance=0):\n",
        "        self.__account_number = account_number\n",
        "        self.__balance = initial_balance\n",
        "\n",
        "    def deposit(self, amount):\n",
        "        if amount > 0:\n",
        "            self.__balance += amount\n",
        "            print(f\"Deposited ${amount}. New balance is ${self.__balance}.\")\n",
        "        else:\n",
        "            print(\"Deposit amount must be positive.\")\n",
        "\n",
        "    def withdraw(self, amount):\n",
        "        if amount > 0:\n",
        "            if amount <= self.__balance:\n",
        "                self.__balance -= amount\n",
        "                print(f\"Withdrew ${amount}. New balance is ${self.__balance}.\")\n",
        "            else:\n",
        "                print(\"Insufficient funds.\")\n",
        "        else:\n",
        "            print(\"Withdrawal amount must be positive.\")\n",
        "\n",
        "    def get_balance(self):\n",
        "        return self.__balance\n",
        "\n",
        "    def get_account_number(self):\n",
        "        return self.__account_number\n",
        "\n",
        "account = BankAccount(\"123456789\", 1000)\n",
        "print(f\"Account Number: {account.get_account_number()}\")\n",
        "print(f\"Initial Balance: ${account.get_balance()}\")\n",
        "\n",
        "account.deposit(200)\n",
        "account.withdraw(20)\n",
        "account.withdraw(1000)\n",
        "\n",
        "print(f\"Final Balance: ${account.get_balance()}\")\n"
      ],
      "metadata": {
        "colab": {
          "base_uri": "https://localhost:8080/"
        },
        "id": "xXpYMtzreagc",
        "outputId": "dbf5f195-0a12-44ea-fd13-eb6d637db49f"
      },
      "execution_count": 38,
      "outputs": [
        {
          "output_type": "stream",
          "name": "stdout",
          "text": [
            "Account Number: 123456789\n",
            "Initial Balance: $1000\n",
            "Deposited $200. New balance is $1200.\n",
            "Withdrew $20. New balance is $1180.\n",
            "Withdrew $1000. New balance is $180.\n",
            "Final Balance: $180\n"
          ]
        }
      ]
    },
    {
      "cell_type": "code",
      "source": [
        "#11.Write a class that overrides the `__str__` and `__add__` magic methods. What will these methods allow you to do?\n",
        "class Point:\n",
        "    def __init__(self, x, y):\n",
        "        self.x = x\n",
        "        self.y = y\n",
        "\n",
        "    def __str__(self):\n",
        "        return f\"Point({self.x}, {self.y})\"\n",
        "\n",
        "    def __add__(self, other):\n",
        "        if isinstance(other, Point):\n",
        "            return Point(self.x + other.x, self.y + other.y)\n",
        "        return NotImplemented\n",
        "\n",
        "# Example usage\n",
        "p1 = Point(8, 3)\n",
        "p2 = Point(8, 5)\n",
        "\n",
        "print(p1)\n",
        "print(p2)\n",
        "\n",
        "p3 = p1 + p2\n",
        "print(p3)\n"
      ],
      "metadata": {
        "colab": {
          "base_uri": "https://localhost:8080/"
        },
        "id": "o5iVVssgeajQ",
        "outputId": "d9c4b664-4bf6-4612-aaa7-878aa289639f"
      },
      "execution_count": 40,
      "outputs": [
        {
          "output_type": "stream",
          "name": "stdout",
          "text": [
            "Point(8, 3)\n",
            "Point(8, 5)\n",
            "Point(16, 8)\n"
          ]
        }
      ]
    },
    {
      "cell_type": "code",
      "source": [
        "#12,Create a decorator that measures and prints the execution time of a function\n",
        "import time\n",
        "\n",
        "def timer_decorator(func):\n",
        "    def wrapper(*args, **kwargs):\n",
        "        start_time = time.time()\n",
        "        result = func(*args, **kwargs)\n",
        "        end_time = time.time()\n",
        "        execution_time = end_time - start_time\n",
        "        print(f\"Execution time of {func.__name__}: {execution_time:.4f} seconds\")\n",
        "        return result\n",
        "    return wrapper\n",
        "\n",
        "@timer_decorator\n",
        "def slow_function(seconds):\n",
        "    time.sleep(seconds)\n",
        "    return \"Finished\"\n",
        "\n",
        "print(slow_function(7))\n"
      ],
      "metadata": {
        "colab": {
          "base_uri": "https://localhost:8080/"
        },
        "id": "ThX-Oenseak9",
        "outputId": "9e6f126b-09c5-4724-8f76-3254b52ddcda"
      },
      "execution_count": 42,
      "outputs": [
        {
          "output_type": "stream",
          "name": "stdout",
          "text": [
            "Execution time of slow_function: 7.0012 seconds\n",
            "Finished\n"
          ]
        }
      ]
    },
    {
      "cell_type": "code",
      "source": [
        "#13.Explain the concept of the Diamond Problem in multiple inheritance. How does Python resolve it?\n",
        "# The Diamond Problem is a complication that arises in multiple inheritance scenarios where a class inherits from two classes that both inherit from a common base class. This creates a diamond-shaped inheritance structure:\n",
        "\n",
        "class A:\n",
        "    def hello(self):\n",
        "        print(\"Hello from A\")\n",
        "\n",
        "class B(A):\n",
        "    def hello(self):\n",
        "        print(\"Hello from B\")\n",
        "\n",
        "class C(A):\n",
        "    def hello(self):\n",
        "        print(\"Hello from C\")\n",
        "\n",
        "class D(B, C):\n",
        "    pass\n",
        "\n",
        "d = D()\n",
        "d.hello()\n"
      ],
      "metadata": {
        "colab": {
          "base_uri": "https://localhost:8080/"
        },
        "id": "9KU_Z1CYeao6",
        "outputId": "f980df27-97f9-4614-b85e-212aa61e8779"
      },
      "execution_count": 43,
      "outputs": [
        {
          "output_type": "stream",
          "name": "stdout",
          "text": [
            "Hello from B\n"
          ]
        }
      ]
    },
    {
      "cell_type": "code",
      "source": [
        "#14.Write a class method that keeps track of the number of instances created from a class.\n",
        "class InstanceCounter:\n",
        "\n",
        "    instance_count = 0\n",
        "    def __init__(self):\n",
        "        InstanceCounter.instance_count += 1\n",
        "    @classmethod\n",
        "    def get_instance_count(cls):\n",
        "        return cls.instance_count\n",
        "obj1 = InstanceCounter()\n",
        "obj2 = InstanceCounter()\n",
        "obj3 = InstanceCounter()\n",
        "\n",
        "print(f\"Number of instances created: {InstanceCounter.get_instance_count()}\")  # Output: Number of instances created: 3\n"
      ],
      "metadata": {
        "colab": {
          "base_uri": "https://localhost:8080/"
        },
        "id": "_jPmY2niearQ",
        "outputId": "b9d90122-04bd-4e44-b5dc-d1e87708e1e5"
      },
      "execution_count": 44,
      "outputs": [
        {
          "output_type": "stream",
          "name": "stdout",
          "text": [
            "Number of instances created: 3\n"
          ]
        }
      ]
    },
    {
      "cell_type": "code",
      "source": [
        "#15.5. Implement a static method in a class that checks if a given year is a leap year.\n",
        "class DateUtils:\n",
        "    @staticmethod\n",
        "    def is_leap_year(year):\n",
        "        if (year % 4 == 0):\n",
        "            if (year % 100 == 0):\n",
        "                if (year % 400 == 0):\n",
        "                    return True\n",
        "                else:\n",
        "                    return False\n",
        "            else:\n",
        "                return True\n",
        "        else:\n",
        "            return False\n",
        "year = 2002\n",
        "print(f\"{year} is a leap year: {DateUtils.is_leap_year(year)}\")\n",
        "\n",
        "year = 1996\n",
        "print(f\"{year} is a leap year: {DateUtils.is_leap_year(year)}\")"
      ],
      "metadata": {
        "colab": {
          "base_uri": "https://localhost:8080/"
        },
        "id": "THMiLP4oeauq",
        "outputId": "88d01468-43f3-4817-bbd2-f3efbdabc8d3"
      },
      "execution_count": 46,
      "outputs": [
        {
          "output_type": "stream",
          "name": "stdout",
          "text": [
            "2002 is a leap year: False\n",
            "1996 is a leap year: True\n"
          ]
        }
      ]
    },
    {
      "cell_type": "code",
      "source": [],
      "metadata": {
        "id": "gBr2Cg2MRJ-3"
      },
      "execution_count": null,
      "outputs": []
    }
  ]
}